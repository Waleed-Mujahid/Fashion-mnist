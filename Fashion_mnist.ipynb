{
  "nbformat": 4,
  "nbformat_minor": 0,
  "metadata": {
    "colab": {
      "name": "Fashion-mnist.ipynb",
      "provenance": [],
      "authorship_tag": "ABX9TyOXBdiGgDLKzy4JxJjo0HiX",
      "include_colab_link": true
    },
    "kernelspec": {
      "name": "python3",
      "display_name": "Python 3"
    },
    "language_info": {
      "name": "python"
    },
    "accelerator": "GPU",
    "gpuClass": "standard"
  },
  "cells": [
    {
      "cell_type": "markdown",
      "metadata": {
        "id": "view-in-github",
        "colab_type": "text"
      },
      "source": [
        "<a href=\"https://colab.research.google.com/github/Waleed-Mujahid/Fashion-mnist/blob/main/Fashion_mnist.ipynb\" target=\"_parent\"><img src=\"https://colab.research.google.com/assets/colab-badge.svg\" alt=\"Open In Colab\"/></a>"
      ]
    },
    {
      "cell_type": "markdown",
      "source": [
        "# Comparison of KNN, Single layer NN and CNN using Fashion-mnist"
      ],
      "metadata": {
        "id": "dEfszOQPGqyR"
      }
    },
    {
      "cell_type": "markdown",
      "source": [
        "In this notebook I will be using the Fashion mnist dataset to carry out a comparison between K nearest neighbours, a Single-layered neural network and a Convulotional neural network"
      ],
      "metadata": {
        "id": "V6MXT_q7xojc"
      }
    },
    {
      "cell_type": "markdown",
      "source": [
        "## Importing Dependecies\n",
        "We start off by import the neccesary libraries."
      ],
      "metadata": {
        "id": "UErA09TwEtu3"
      }
    },
    {
      "cell_type": "code",
      "execution_count": 17,
      "metadata": {
        "id": "US0A4I2fvxqH"
      },
      "outputs": [],
      "source": [
        "import tensorflow as tf\n",
        "import pandas as pd\n",
        "import matplotlib.pyplot as plt\n",
        "import seaborn as sns\n",
        "import numpy as np\n",
        "import keras\n",
        "import tensorflow as tf\n",
        "from keras.models import Sequential\n",
        "from keras.layers import Conv2D, MaxPooling2D, Flatten, Dense, Dropout"
      ]
    },
    {
      "cell_type": "markdown",
      "source": [
        "## Loading our Dataset\n",
        "Next up we load our dataset using Tensorflow's dataset repository"
      ],
      "metadata": {
        "id": "6z9FfbCNExSv"
      }
    },
    {
      "cell_type": "code",
      "source": [
        "(x_train, y_train), (x_test, y_test) = tf.keras.datasets.fashion_mnist.load_data()"
      ],
      "metadata": {
        "id": "HlJ_ixnywAwl",
        "colab": {
          "base_uri": "https://localhost:8080/"
        },
        "outputId": "a9f911fd-651d-46b7-fb91-376f2b817f53"
      },
      "execution_count": 2,
      "outputs": [
        {
          "output_type": "stream",
          "name": "stdout",
          "text": [
            "Downloading data from https://storage.googleapis.com/tensorflow/tf-keras-datasets/train-labels-idx1-ubyte.gz\n",
            "32768/29515 [=================================] - 0s 0us/step\n",
            "40960/29515 [=========================================] - 0s 0us/step\n",
            "Downloading data from https://storage.googleapis.com/tensorflow/tf-keras-datasets/train-images-idx3-ubyte.gz\n",
            "26427392/26421880 [==============================] - 0s 0us/step\n",
            "26435584/26421880 [==============================] - 0s 0us/step\n",
            "Downloading data from https://storage.googleapis.com/tensorflow/tf-keras-datasets/t10k-labels-idx1-ubyte.gz\n",
            "16384/5148 [===============================================================================================] - 0s 0us/step\n",
            "Downloading data from https://storage.googleapis.com/tensorflow/tf-keras-datasets/t10k-images-idx3-ubyte.gz\n",
            "4423680/4422102 [==============================] - 0s 0us/step\n",
            "4431872/4422102 [==============================] - 0s 0us/step\n"
          ]
        }
      ]
    },
    {
      "cell_type": "code",
      "source": [
        "# Let us take a look at the datatype of the dataset\n",
        "print(type(x_train))"
      ],
      "metadata": {
        "colab": {
          "base_uri": "https://localhost:8080/"
        },
        "id": "XzS_0IGKweOW",
        "outputId": "c06de7a1-cc83-4a6d-e625-65d51ecadfd8"
      },
      "execution_count": 3,
      "outputs": [
        {
          "output_type": "stream",
          "name": "stdout",
          "text": [
            "<class 'numpy.ndarray'>\n"
          ]
        }
      ]
    },
    {
      "cell_type": "markdown",
      "source": [
        "So we have an N dimensional numpy array.\n",
        "\n",
        "---\n",
        "\n",
        "Now lets look at the shape of Train and Test datasets"
      ],
      "metadata": {
        "id": "t5ndfSp6FNiB"
      }
    },
    {
      "cell_type": "code",
      "source": [
        "print(x_train.shape, x_test.shape)"
      ],
      "metadata": {
        "colab": {
          "base_uri": "https://localhost:8080/"
        },
        "id": "wuZ2P5l-wfRJ",
        "outputId": "26e86ebf-b873-4328-ce21-db6f1d492c9a"
      },
      "execution_count": 4,
      "outputs": [
        {
          "output_type": "stream",
          "name": "stdout",
          "text": [
            "(60000, 28, 28) (10000, 28, 28)\n"
          ]
        }
      ]
    },
    {
      "cell_type": "code",
      "source": [
        "img_size = x_train.shape[1]"
      ],
      "metadata": {
        "id": "fCOQaCGOFYfp"
      },
      "execution_count": 5,
      "outputs": []
    },
    {
      "cell_type": "markdown",
      "source": [
        "We need a 2d numpy array to apply K nearest Neighbours classifier so we reshape our dataset."
      ],
      "metadata": {
        "id": "mX7qaQSnFBMY"
      }
    },
    {
      "cell_type": "code",
      "source": [
        "x_train = x_train.reshape((x_train.shape[0],-1))\n",
        "x_test = x_test.reshape((x_test.shape[0],-1))"
      ],
      "metadata": {
        "id": "gBUK4pLyx8Yn"
      },
      "execution_count": 6,
      "outputs": []
    },
    {
      "cell_type": "code",
      "source": [
        "print(x_train.shape, x_test.shape)"
      ],
      "metadata": {
        "colab": {
          "base_uri": "https://localhost:8080/"
        },
        "id": "ObJczenq2FdL",
        "outputId": "cb5c1224-e9a0-4b42-ee7d-f6f9c90cd7a8"
      },
      "execution_count": 7,
      "outputs": [
        {
          "output_type": "stream",
          "name": "stdout",
          "text": [
            "(60000, 784) (10000, 784)\n"
          ]
        }
      ]
    },
    {
      "cell_type": "code",
      "source": [
        "print(y_train.shape)"
      ],
      "metadata": {
        "colab": {
          "base_uri": "https://localhost:8080/"
        },
        "id": "E4hbesbr6dcj",
        "outputId": "ed3b25bc-a26c-4366-fb0f-b635e7137938"
      },
      "execution_count": 8,
      "outputs": [
        {
          "output_type": "stream",
          "name": "stdout",
          "text": [
            "(60000,)\n"
          ]
        }
      ]
    },
    {
      "cell_type": "markdown",
      "source": [
        "**Point to be noted:** Our labels are not one hot encoded\n",
        "\n",
        "\n",
        "---\n",
        " We get the class labels from the meta-deta about the dataset\n"
      ],
      "metadata": {
        "id": "1n-ZL2BGF4wE"
      }
    },
    {
      "cell_type": "code",
      "source": [
        "class_labels = ['T-shirt/top','Trouser','Pullover','Dress','Coat','Sandal','Shirt','Sneakers','Bag','Ankle boot']"
      ],
      "metadata": {
        "id": "W2Lg_3HCziXx"
      },
      "execution_count": 16,
      "outputs": []
    },
    {
      "cell_type": "markdown",
      "source": [
        "## K Nearest Neighbour Model\n",
        "### Pre-processing our Data\n",
        "First we normalize our data using Sklearn pre-processing"
      ],
      "metadata": {
        "id": "Tx6py8tQGkIV"
      }
    },
    {
      "cell_type": "code",
      "source": [
        "from sklearn.preprocessing import Normalizer\n",
        "norm = Normalizer()\n",
        "\n",
        "x_train_norm = norm.fit_transform(x_train)\n",
        "x_test_norm = norm.transform(x_test)"
      ],
      "metadata": {
        "id": "TFXi7XB2w9dH"
      },
      "execution_count": 9,
      "outputs": []
    },
    {
      "cell_type": "markdown",
      "source": [
        "**Note:** We fit the normalizer on only the train data so we do not face any overfitting. Transform is done on both as it normalizes the data while fit calculates average and standard deviation.\n",
        "\n",
        "---\n",
        "\n",
        "Next we use Sklearn's K nearest neighbours to classify the data"
      ],
      "metadata": {
        "id": "tmE8JVjKGIgD"
      }
    },
    {
      "cell_type": "markdown",
      "source": [
        "### Training the Model\n",
        "We use Sklearn's build in K neighbours Classifier to train the data."
      ],
      "metadata": {
        "id": "zOO_MbXGG6Hl"
      }
    },
    {
      "cell_type": "code",
      "source": [
        "from sklearn.neighbors import KNeighborsClassifier\n",
        "classifier = KNeighborsClassifier()\n",
        "classifier.fit(x_train_norm,y_train)"
      ],
      "metadata": {
        "colab": {
          "base_uri": "https://localhost:8080/"
        },
        "id": "KX8QHJ_Lxwk9",
        "outputId": "f5ca7d09-7a38-4b73-ad2f-eca98dced196"
      },
      "execution_count": 10,
      "outputs": [
        {
          "output_type": "execute_result",
          "data": {
            "text/plain": [
              "KNeighborsClassifier()"
            ]
          },
          "metadata": {},
          "execution_count": 10
        }
      ]
    },
    {
      "cell_type": "markdown",
      "source": [
        "### Evalutaing the Model\n",
        "Next we make use of Sklearn.metrics to check how the K neighbours classifier is performing"
      ],
      "metadata": {
        "id": "BWR1dc5rG_TY"
      }
    },
    {
      "cell_type": "code",
      "source": [
        "from sklearn.metrics import accuracy_score\n",
        "y_pred = classifier.predict(x_test_norm)\n",
        "KNN_accuracy = accuracy_score(y_test,y_pred)"
      ],
      "metadata": {
        "id": "UolUMyzL2cpZ"
      },
      "execution_count": 11,
      "outputs": []
    },
    {
      "cell_type": "code",
      "source": [
        "print(f'So the accuracy for N nearest neighbours is {KNN_accuracy*100} ')"
      ],
      "metadata": {
        "colab": {
          "base_uri": "https://localhost:8080/"
        },
        "id": "w0gZmUxf2tsd",
        "outputId": "2142229d-b2d8-45d6-f21d-a7d65288633b"
      },
      "execution_count": 12,
      "outputs": [
        {
          "output_type": "stream",
          "name": "stdout",
          "text": [
            "So the accuracy for N nearest neighbours is 85.78 \n"
          ]
        }
      ]
    },
    {
      "cell_type": "code",
      "source": [
        "from sklearn.metrics import f1_score, precision_score, recall_score\n",
        "KNN_f1_score = f1_score(y_test,y_pred, average = 'weighted')\n",
        "KNN_precision_score = precision_score(y_test,y_pred, average = 'weighted')\n",
        "KNN_recall_score = f1_score(y_test,y_pred, average = 'weighted')\n",
        "\n",
        "print(f'F1 score = {KNN_f1_score*100:.02f} \\nPrecision = {KNN_precision_score*100:.02f} \\nRecall = {KNN_recall_score*100:.02f}')"
      ],
      "metadata": {
        "colab": {
          "base_uri": "https://localhost:8080/"
        },
        "id": "ryGXBXM12-q-",
        "outputId": "65a99d1c-bcb5-439c-d9b5-397d9735850d"
      },
      "execution_count": 13,
      "outputs": [
        {
          "output_type": "stream",
          "name": "stdout",
          "text": [
            "F1 score = 85.60 \n",
            "Precision = 86.23 \n",
            "Recall = 85.60\n"
          ]
        }
      ]
    },
    {
      "cell_type": "markdown",
      "source": [
        "### Plotting confusion Matrix"
      ],
      "metadata": {
        "id": "S13sweG7HEfc"
      }
    },
    {
      "cell_type": "code",
      "source": [
        "params = {'figure.figsize': (16, 9)}\n",
        "plt.rcParams.update(params)"
      ],
      "metadata": {
        "id": "F6g3DgXw_XgV"
      },
      "execution_count": 25,
      "outputs": []
    },
    {
      "cell_type": "code",
      "source": [
        "from sklearn.metrics import confusion_matrix\n",
        "cm1 = confusion_matrix(y_test,y_pred, normalize='true')"
      ],
      "metadata": {
        "id": "hSRp_AhB_AbO"
      },
      "execution_count": 21,
      "outputs": []
    },
    {
      "cell_type": "code",
      "source": [
        "from sklearn.metrics import ConfusionMatrixDisplay\n",
        "disp = ConfusionMatrixDisplay(cm1*100, display_labels=class_labels)\n",
        "disp.plot()"
      ],
      "metadata": {
        "colab": {
          "base_uri": "https://localhost:8080/",
          "height": 568
        },
        "id": "Fdp8chbq_DpR",
        "outputId": "e6aeb0a1-dd2d-4cfa-db6e-409200a732e3"
      },
      "execution_count": 27,
      "outputs": [
        {
          "output_type": "execute_result",
          "data": {
            "text/plain": [
              "<sklearn.metrics._plot.confusion_matrix.ConfusionMatrixDisplay at 0x7ff3d8a7dad0>"
            ]
          },
          "metadata": {},
          "execution_count": 27
        },
        {
          "output_type": "display_data",
          "data": {
            "text/plain": [
              "<Figure size 1152x648 with 2 Axes>"
            ],
            "image/png": "[encoded data removed]"
          },
          "metadata": {
            "needs_background": "light"
          }
        }
      ]
    },
    {
      "cell_type": "markdown",
      "source": [
        "**Note:**\n",
        "The confusion matrix has a lot of information. One particular thing to be noted is Shirt was correctly predicted only 57% times. It is due to the fact that Shirt is quite similar to a T-shirp/top , pullover and coat as well. Shirts are misidentified as these items which leads to a lower accuracy for shirt. We will see in the CNN model this accuracy will increase."
      ],
      "metadata": {
        "id": "RGVvGMurzD3R"
      }
    },
    {
      "cell_type": "markdown",
      "source": [
        "## Importing helper functions\n",
        "Next up I import some helper functions to avoid rewriting code."
      ],
      "metadata": {
        "id": "GjLMf9nVHNdC"
      }
    },
    {
      "cell_type": "code",
      "source": [
        "!wget https://raw.githubusercontent.com/Waleed-Mujahid/Coding/master/colabUtils.py"
      ],
      "metadata": {
        "colab": {
          "base_uri": "https://localhost:8080/"
        },
        "id": "jAZzl6475_je",
        "outputId": "7254796e-8006-4b67-d936-758a3268bb1a"
      },
      "execution_count": 28,
      "outputs": [
        {
          "output_type": "stream",
          "name": "stdout",
          "text": [
            "--2022-07-18 10:25:51--  https://raw.githubusercontent.com/Waleed-Mujahid/Coding/master/colabUtils.py\n",
            "Resolving raw.githubusercontent.com (raw.githubusercontent.com)... 185.199.108.133, 185.199.110.133, 185.199.111.133, ...\n",
            "Connecting to raw.githubusercontent.com (raw.githubusercontent.com)|185.199.108.133|:443... connected.\n",
            "HTTP request sent, awaiting response... 200 OK\n",
            "Length: 1625 (1.6K) [text/plain]\n",
            "Saving to: ‘colabUtils.py’\n",
            "\n",
            "\rcolabUtils.py         0%[                    ]       0  --.-KB/s               \rcolabUtils.py       100%[===================>]   1.59K  --.-KB/s    in 0s      \n",
            "\n",
            "2022-07-18 10:25:51 (35.3 MB/s) - ‘colabUtils.py’ saved [1625/1625]\n",
            "\n"
          ]
        }
      ]
    },
    {
      "cell_type": "code",
      "source": [
        "from colabUtils import *"
      ],
      "metadata": {
        "id": "zY4M5yUk6CAe"
      },
      "execution_count": 29,
      "outputs": []
    },
    {
      "cell_type": "markdown",
      "source": [
        "## Single Layer Neural Network\n",
        "Now we will create a neural network with only one hidden layer and fit our data to it."
      ],
      "metadata": {
        "id": "_4ANbIiiHX5L"
      }
    },
    {
      "cell_type": "markdown",
      "source": [
        "### Building our Neural Network\n",
        "\n"
      ],
      "metadata": {
        "id": "tM4EZPLTHfti"
      }
    },
    {
      "cell_type": "code",
      "source": [
        "model = Sequential()\n",
        "model.add(Dense(512, input_shape = x_train_norm[0].shape , activation = 'relu'))\n",
        "model.add(Dense(10, activation = 'softmax'))\n",
        "\n",
        "model.summary()"
      ],
      "metadata": {
        "colab": {
          "base_uri": "https://localhost:8080/"
        },
        "id": "Dfa0IOzb1XZW",
        "outputId": "80e5a272-b0a4-486c-e065-d8325f489160"
      },
      "execution_count": 30,
      "outputs": [
        {
          "output_type": "stream",
          "name": "stdout",
          "text": [
            "Model: \"sequential\"\n",
            "_________________________________________________________________\n",
            " Layer (type)                Output Shape              Param #   \n",
            "=================================================================\n",
            " dense (Dense)               (None, 512)               401920    \n",
            "                                                                 \n",
            " dense_1 (Dense)             (None, 10)                5130      \n",
            "                                                                 \n",
            "=================================================================\n",
            "Total params: 407,050\n",
            "Trainable params: 407,050\n",
            "Non-trainable params: 0\n",
            "_________________________________________________________________\n"
          ]
        }
      ]
    },
    {
      "cell_type": "markdown",
      "source": [
        "### Fitting the model on Data"
      ],
      "metadata": {
        "id": "GJiFb4cDHjgm"
      }
    },
    {
      "cell_type": "code",
      "source": [
        "model.compile(loss=tf.keras.losses.sparse_categorical_crossentropy,\n",
        "optimizer=tf.keras.optimizers.Adam(learning_rate=0.001),\n",
        "metrics=['accuracy'])"
      ],
      "metadata": {
        "id": "fz8XE4yr6ZY_"
      },
      "execution_count": 31,
      "outputs": []
    },
    {
      "cell_type": "code",
      "source": [
        "history = model.fit(x_train_norm, y_train, validation_split=0.1, epochs = 20)"
      ],
      "metadata": {
        "colab": {
          "base_uri": "https://localhost:8080/"
        },
        "id": "PvyILxft5w3C",
        "outputId": "cbce3999-7baf-4307-f40a-b8bd4ab6df11"
      },
      "execution_count": 32,
      "outputs": [
        {
          "output_type": "stream",
          "name": "stdout",
          "text": [
            "Epoch 1/20\n",
            "1688/1688 [==============================] - 7s 3ms/step - loss: 0.5402 - accuracy: 0.8089 - val_loss: 0.4069 - val_accuracy: 0.8535\n",
            "Epoch 2/20\n",
            "1688/1688 [==============================] - 4s 2ms/step - loss: 0.3914 - accuracy: 0.8595 - val_loss: 0.3719 - val_accuracy: 0.8603\n",
            "Epoch 3/20\n",
            "1688/1688 [==============================] - 4s 2ms/step - loss: 0.3512 - accuracy: 0.8713 - val_loss: 0.3534 - val_accuracy: 0.8685\n",
            "Epoch 4/20\n",
            "1688/1688 [==============================] - 4s 2ms/step - loss: 0.3218 - accuracy: 0.8824 - val_loss: 0.3279 - val_accuracy: 0.8800\n",
            "Epoch 5/20\n",
            "1688/1688 [==============================] - 4s 2ms/step - loss: 0.3008 - accuracy: 0.8903 - val_loss: 0.3250 - val_accuracy: 0.8818\n",
            "Epoch 6/20\n",
            "1688/1688 [==============================] - 4s 2ms/step - loss: 0.2841 - accuracy: 0.8949 - val_loss: 0.3174 - val_accuracy: 0.8815\n",
            "Epoch 7/20\n",
            "1688/1688 [==============================] - 4s 2ms/step - loss: 0.2697 - accuracy: 0.9012 - val_loss: 0.3154 - val_accuracy: 0.8835\n",
            "Epoch 8/20\n",
            "1688/1688 [==============================] - 4s 2ms/step - loss: 0.2580 - accuracy: 0.9048 - val_loss: 0.3037 - val_accuracy: 0.8885\n",
            "Epoch 9/20\n",
            "1688/1688 [==============================] - 4s 2ms/step - loss: 0.2472 - accuracy: 0.9087 - val_loss: 0.3003 - val_accuracy: 0.8882\n",
            "Epoch 10/20\n",
            "1688/1688 [==============================] - 4s 3ms/step - loss: 0.2365 - accuracy: 0.9127 - val_loss: 0.3057 - val_accuracy: 0.8900\n",
            "Epoch 11/20\n",
            "1688/1688 [==============================] - 5s 3ms/step - loss: 0.2280 - accuracy: 0.9145 - val_loss: 0.3128 - val_accuracy: 0.8885\n",
            "Epoch 12/20\n",
            "1688/1688 [==============================] - 4s 2ms/step - loss: 0.2190 - accuracy: 0.9182 - val_loss: 0.2953 - val_accuracy: 0.8923\n",
            "Epoch 13/20\n",
            "1688/1688 [==============================] - 4s 2ms/step - loss: 0.2098 - accuracy: 0.9230 - val_loss: 0.3038 - val_accuracy: 0.8932\n",
            "Epoch 14/20\n",
            "1688/1688 [==============================] - 4s 2ms/step - loss: 0.2048 - accuracy: 0.9238 - val_loss: 0.3082 - val_accuracy: 0.8913\n",
            "Epoch 15/20\n",
            "1688/1688 [==============================] - 4s 2ms/step - loss: 0.1973 - accuracy: 0.9280 - val_loss: 0.2981 - val_accuracy: 0.8933\n",
            "Epoch 16/20\n",
            "1688/1688 [==============================] - 4s 2ms/step - loss: 0.1902 - accuracy: 0.9296 - val_loss: 0.3201 - val_accuracy: 0.8910\n",
            "Epoch 17/20\n",
            "1688/1688 [==============================] - 5s 3ms/step - loss: 0.1850 - accuracy: 0.9322 - val_loss: 0.3243 - val_accuracy: 0.8862\n",
            "Epoch 18/20\n",
            "1688/1688 [==============================] - 6s 4ms/step - loss: 0.1775 - accuracy: 0.9347 - val_loss: 0.3034 - val_accuracy: 0.8920\n",
            "Epoch 19/20\n",
            "1688/1688 [==============================] - 5s 3ms/step - loss: 0.1731 - accuracy: 0.9367 - val_loss: 0.3204 - val_accuracy: 0.8928\n",
            "Epoch 20/20\n",
            "1688/1688 [==============================] - 6s 4ms/step - loss: 0.1672 - accuracy: 0.9388 - val_loss: 0.3322 - val_accuracy: 0.8865\n"
          ]
        }
      ]
    },
    {
      "cell_type": "markdown",
      "source": [
        "now lets take a look at home our model trained"
      ],
      "metadata": {
        "id": "MZvNAgw-HtfP"
      }
    },
    {
      "cell_type": "code",
      "source": [
        "plotAccuracy(history,True)"
      ],
      "metadata": {
        "colab": {
          "base_uri": "https://localhost:8080/",
          "height": 295
        },
        "id": "wSfXHphJ6lK8",
        "outputId": "ecce65e1-9c36-4d63-da0d-083de2a64b9f"
      },
      "execution_count": 33,
      "outputs": [
        {
          "output_type": "display_data",
          "data": {
            "text/plain": [
              "<Figure size 504x288 with 1 Axes>"
            ],
            "image/png": "[encoded data removed]"
          },
          "metadata": {
            "needs_background": "light"
          }
        }
      ]
    },
    {
      "cell_type": "markdown",
      "source": [
        "### Evaluating the Model"
      ],
      "metadata": {
        "id": "Y1mmzv0JHxKi"
      }
    },
    {
      "cell_type": "code",
      "source": [
        "loss, accuracy_nn = model.evaluate(x_test_norm,y_test)"
      ],
      "metadata": {
        "colab": {
          "base_uri": "https://localhost:8080/"
        },
        "id": "y5w0eKe26rr3",
        "outputId": "4f1b4d14-c926-4bae-a0a8-ef2fefebb941"
      },
      "execution_count": 34,
      "outputs": [
        {
          "output_type": "stream",
          "name": "stdout",
          "text": [
            "313/313 [==============================] - 1s 2ms/step - loss: 0.3514 - accuracy: 0.8848\n"
          ]
        }
      ]
    },
    {
      "cell_type": "code",
      "source": [
        "print(f\"The accuracy received on Test data is: {accuracy_nn*100:.2f}%\")"
      ],
      "metadata": {
        "colab": {
          "base_uri": "https://localhost:8080/"
        },
        "id": "ct32Jikz7AAV",
        "outputId": "112ea467-3459-42a5-af48-b15617c68793"
      },
      "execution_count": 35,
      "outputs": [
        {
          "output_type": "stream",
          "name": "stdout",
          "text": [
            "The accuracy received on Test data is: 88.48%\n"
          ]
        }
      ]
    },
    {
      "cell_type": "code",
      "source": [
        "from sklearn.metrics import f1_score, precision_score, recall_score\n",
        "\n",
        "y_pred2 = model.predict(x_test_norm)\n",
        "y_pred2 = np.argmax(y_pred2, axis=1)\n",
        "NN_f1_score = f1_score(y_test,y_pred2, average = 'weighted')\n",
        "NN_precision_score = precision_score(y_test,y_pred2, average = 'weighted')\n",
        "NN_recall_score = f1_score(y_test,y_pred2, average = 'weighted')\n",
        "\n",
        "print(f'F1 score = {NN_f1_score*100:.02f} \\nPrecision = {NN_precision_score*100:.02f} \\nRecall = {NN_recall_score*100:.02f}')"
      ],
      "metadata": {
        "colab": {
          "base_uri": "https://localhost:8080/"
        },
        "id": "_kVQH_7aAaB1",
        "outputId": "0c28b6a6-f440-47de-d6db-557606a4d60a"
      },
      "execution_count": 36,
      "outputs": [
        {
          "output_type": "stream",
          "name": "stdout",
          "text": [
            "F1 score = 88.24 \n",
            "Precision = 88.73 \n",
            "Recall = 88.24\n"
          ]
        }
      ]
    },
    {
      "cell_type": "markdown",
      "source": [
        "### Plotting a Confusion Matrix"
      ],
      "metadata": {
        "id": "QBWx7oaRIbvx"
      }
    },
    {
      "cell_type": "code",
      "source": [
        "from sklearn.metrics import confusion_matrix\n",
        "cm2 = confusion_matrix(y_test,y_pred2, normalize='true')"
      ],
      "metadata": {
        "id": "43x3DkVjIeFj"
      },
      "execution_count": 37,
      "outputs": []
    },
    {
      "cell_type": "code",
      "source": [
        "from sklearn.metrics import ConfusionMatrixDisplay\n",
        "disp = ConfusionMatrixDisplay(cm2*100, display_labels=class_labels)\n",
        "disp.plot()"
      ],
      "metadata": {
        "colab": {
          "base_uri": "https://localhost:8080/",
          "height": 568
        },
        "id": "dOZRDOy6IleQ",
        "outputId": "aba6c3d2-383c-4064-cd5b-3e735478d806"
      },
      "execution_count": 38,
      "outputs": [
        {
          "output_type": "execute_result",
          "data": {
            "text/plain": [
              "<sklearn.metrics._plot.confusion_matrix.ConfusionMatrixDisplay at 0x7ff35c07aa50>"
            ]
          },
          "metadata": {},
          "execution_count": 38
        },
        {
          "output_type": "display_data",
          "data": {
            "text/plain": [
              "<Figure size 1152x648 with 2 Axes>"
            ],
            "image/png": "[encoded data removed]"
          },
          "metadata": {
            "needs_background": "light"
          }
        }
      ]
    },
    {
      "cell_type": "markdown",
      "source": [
        "Here we can note that the accuracy for shirt is still poor."
      ],
      "metadata": {
        "id": "LchZVqAz4m2Z"
      }
    },
    {
      "cell_type": "markdown",
      "source": [
        "## Convulotional Neural Network"
      ],
      "metadata": {
        "id": "gkz5zpz4ItPD"
      }
    },
    {
      "cell_type": "markdown",
      "source": [
        "First we resize our data bach into 2d images as it is a requirement for Conv layers."
      ],
      "metadata": {
        "id": "jtTFoYcaI0R0"
      }
    },
    {
      "cell_type": "code",
      "source": [
        "x_train_norm = x_train_norm.reshape(x_train_norm.shape[0],img_size,img_size)\n",
        "x_test_norm = x_test_norm.reshape(x_test_norm.shape[0],img_size,img_size)"
      ],
      "metadata": {
        "id": "sDkznmLJ7F-0"
      },
      "execution_count": 39,
      "outputs": []
    },
    {
      "cell_type": "code",
      "source": [
        "print(x_train_norm.shape,x_test_norm.shape)\n",
        "print(y_train.shape)"
      ],
      "metadata": {
        "colab": {
          "base_uri": "https://localhost:8080/"
        },
        "id": "bC8Qhtge7V5J",
        "outputId": "29008eb5-0ac6-4ca6-e4cb-21abe8f90e1c"
      },
      "execution_count": 40,
      "outputs": [
        {
          "output_type": "stream",
          "name": "stdout",
          "text": [
            "(60000, 28, 28) (10000, 28, 28)\n",
            "(60000,)\n"
          ]
        }
      ]
    },
    {
      "cell_type": "markdown",
      "source": [
        "### Building our CNN"
      ],
      "metadata": {
        "id": "VHlyzGbOI9Wd"
      }
    },
    {
      "cell_type": "code",
      "source": [
        "model2 = Sequential()\n",
        "model2.add(Conv2D(32, (5, 5), padding = 'same' , input_shape=(img_size,img_size,1)))  # Input size of all images must be standard for model\n",
        "model2.add(keras.layers.Activation('relu'))\n",
        "model2.add(Conv2D(32, (5, 5), padding = 'same'))\n",
        "model2.add(keras.layers.Activation('relu'))\n",
        "model2.add(MaxPooling2D(strides=2))\n",
        "model2.add(Dropout(0.4))\n",
        "\n",
        "model2.add(Conv2D(64, (5, 5) , padding = 'same'))\n",
        "model2.add(keras.layers.Activation('relu'))\n",
        "model2.add(Conv2D(64, (5, 5) , padding = 'same'))\n",
        "model2.add(keras.layers.Activation('relu'))\n",
        "model2.add(MaxPooling2D(strides=2))\n",
        "model2.add(Dropout(0.4))\n",
        "\n",
        "model2.add(Conv2D(128, (3, 3) , padding = 'same'))\n",
        "model2.add(keras.layers.Activation('relu'))\n",
        "model2.add(Conv2D(128, (3, 3) , padding = 'same'))\n",
        "model2.add(keras.layers.Activation('relu'))\n",
        "model2.add(MaxPooling2D(strides=2))\n",
        "model2.add(Dropout(0.4))\n",
        "\n",
        "\n",
        "model2.add(Flatten())\n",
        "model2.add(Dense(10, activation='softmax')) \n",
        "\n",
        "model2.summary()"
      ],
      "metadata": {
        "colab": {
          "base_uri": "https://localhost:8080/"
        },
        "id": "jSFDZGrx7czP",
        "outputId": "82fe3cb3-ae01-41bc-c9d8-7584e0ee039f"
      },
      "execution_count": 41,
      "outputs": [
        {
          "output_type": "stream",
          "name": "stdout",
          "text": [
            "Model: \"sequential_1\"\n",
            "_________________________________________________________________\n",
            " Layer (type)                Output Shape              Param #   \n",
            "=================================================================\n",
            " conv2d (Conv2D)             (None, 28, 28, 32)        832       \n",
            "                                                                 \n",
            " activation (Activation)     (None, 28, 28, 32)        0         \n",
            "                                                                 \n",
            " conv2d_1 (Conv2D)           (None, 28, 28, 32)        25632     \n",
            "                                                                 \n",
            " activation_1 (Activation)   (None, 28, 28, 32)        0         \n",
            "                                                                 \n",
            " max_pooling2d (MaxPooling2D  (None, 14, 14, 32)       0         \n",
            " )                                                               \n",
            "                                                                 \n",
            " dropout (Dropout)           (None, 14, 14, 32)        0         \n",
            "                                                                 \n",
            " conv2d_2 (Conv2D)           (None, 14, 14, 64)        51264     \n",
            "                                                                 \n",
            " activation_2 (Activation)   (None, 14, 14, 64)        0         \n",
            "                                                                 \n",
            " conv2d_3 (Conv2D)           (None, 14, 14, 64)        102464    \n",
            "                                                                 \n",
            " activation_3 (Activation)   (None, 14, 14, 64)        0         \n",
            "                                                                 \n",
            " max_pooling2d_1 (MaxPooling  (None, 7, 7, 64)         0         \n",
            " 2D)                                                             \n",
            "                                                                 \n",
            " dropout_1 (Dropout)         (None, 7, 7, 64)          0         \n",
            "                                                                 \n",
            " conv2d_4 (Conv2D)           (None, 7, 7, 128)         73856     \n",
            "                                                                 \n",
            " activation_4 (Activation)   (None, 7, 7, 128)         0         \n",
            "                                                                 \n",
            " conv2d_5 (Conv2D)           (None, 7, 7, 128)         147584    \n",
            "                                                                 \n",
            " activation_5 (Activation)   (None, 7, 7, 128)         0         \n",
            "                                                                 \n",
            " max_pooling2d_2 (MaxPooling  (None, 3, 3, 128)        0         \n",
            " 2D)                                                             \n",
            "                                                                 \n",
            " dropout_2 (Dropout)         (None, 3, 3, 128)         0         \n",
            "                                                                 \n",
            " flatten (Flatten)           (None, 1152)              0         \n",
            "                                                                 \n",
            " dense_2 (Dense)             (None, 10)                11530     \n",
            "                                                                 \n",
            "=================================================================\n",
            "Total params: 413,162\n",
            "Trainable params: 413,162\n",
            "Non-trainable params: 0\n",
            "_________________________________________________________________\n"
          ]
        }
      ]
    },
    {
      "cell_type": "markdown",
      "source": [
        "### Fitting our CNN"
      ],
      "metadata": {
        "id": "1Jm18S_0JB2d"
      }
    },
    {
      "cell_type": "code",
      "source": [
        "model2.compile(loss=tf.keras.losses.sparse_categorical_crossentropy,\n",
        "optimizer=tf.keras.optimizers.Adam(learning_rate=0.001),\n",
        "metrics=['accuracy'])"
      ],
      "metadata": {
        "id": "6p87tfaV8LEA"
      },
      "execution_count": 42,
      "outputs": []
    },
    {
      "cell_type": "code",
      "source": [
        "history2 = model2.fit(x_train_norm, y_train, validation_split=0.1, epochs = 20)"
      ],
      "metadata": {
        "colab": {
          "base_uri": "https://localhost:8080/"
        },
        "id": "4uggh0hU8aM1",
        "outputId": "1b40e387-b02d-4df2-e4e5-d3896c0fa950"
      },
      "execution_count": 43,
      "outputs": [
        {
          "output_type": "stream",
          "name": "stdout",
          "text": [
            "Epoch 1/20\n",
            "1688/1688 [==============================] - 19s 6ms/step - loss: 0.5670 - accuracy: 0.7884 - val_loss: 0.3389 - val_accuracy: 0.8740\n",
            "Epoch 2/20\n",
            "1688/1688 [==============================] - 9s 6ms/step - loss: 0.3632 - accuracy: 0.8654 - val_loss: 0.3160 - val_accuracy: 0.8870\n",
            "Epoch 3/20\n",
            "1688/1688 [==============================] - 10s 6ms/step - loss: 0.3200 - accuracy: 0.8809 - val_loss: 0.2713 - val_accuracy: 0.8987\n",
            "Epoch 4/20\n",
            "1688/1688 [==============================] - 10s 6ms/step - loss: 0.2963 - accuracy: 0.8900 - val_loss: 0.2568 - val_accuracy: 0.9052\n",
            "Epoch 5/20\n",
            "1688/1688 [==============================] - 10s 6ms/step - loss: 0.2787 - accuracy: 0.8975 - val_loss: 0.2450 - val_accuracy: 0.9138\n",
            "Epoch 6/20\n",
            "1688/1688 [==============================] - 10s 6ms/step - loss: 0.2697 - accuracy: 0.8989 - val_loss: 0.2386 - val_accuracy: 0.9137\n",
            "Epoch 7/20\n",
            "1688/1688 [==============================] - 9s 6ms/step - loss: 0.2557 - accuracy: 0.9046 - val_loss: 0.2323 - val_accuracy: 0.9180\n",
            "Epoch 8/20\n",
            "1688/1688 [==============================] - 10s 6ms/step - loss: 0.2486 - accuracy: 0.9065 - val_loss: 0.2231 - val_accuracy: 0.9182\n",
            "Epoch 9/20\n",
            "1688/1688 [==============================] - 10s 6ms/step - loss: 0.2416 - accuracy: 0.9107 - val_loss: 0.2316 - val_accuracy: 0.9155\n",
            "Epoch 10/20\n",
            "1688/1688 [==============================] - 10s 6ms/step - loss: 0.2374 - accuracy: 0.9122 - val_loss: 0.2273 - val_accuracy: 0.9180\n",
            "Epoch 11/20\n",
            "1688/1688 [==============================] - 9s 6ms/step - loss: 0.2371 - accuracy: 0.9124 - val_loss: 0.2277 - val_accuracy: 0.9198\n",
            "Epoch 12/20\n",
            "1688/1688 [==============================] - 9s 6ms/step - loss: 0.2322 - accuracy: 0.9127 - val_loss: 0.2167 - val_accuracy: 0.9210\n",
            "Epoch 13/20\n",
            "1688/1688 [==============================] - 10s 6ms/step - loss: 0.2275 - accuracy: 0.9143 - val_loss: 0.2235 - val_accuracy: 0.9193\n",
            "Epoch 14/20\n",
            "1688/1688 [==============================] - 9s 6ms/step - loss: 0.2270 - accuracy: 0.9167 - val_loss: 0.2144 - val_accuracy: 0.9205\n",
            "Epoch 15/20\n",
            "1688/1688 [==============================] - 9s 6ms/step - loss: 0.2258 - accuracy: 0.9144 - val_loss: 0.2152 - val_accuracy: 0.9195\n",
            "Epoch 16/20\n",
            "1688/1688 [==============================] - 10s 6ms/step - loss: 0.2235 - accuracy: 0.9160 - val_loss: 0.2205 - val_accuracy: 0.9202\n",
            "Epoch 17/20\n",
            "1688/1688 [==============================] - 10s 6ms/step - loss: 0.2232 - accuracy: 0.9167 - val_loss: 0.2093 - val_accuracy: 0.9215\n",
            "Epoch 18/20\n",
            "1688/1688 [==============================] - 10s 6ms/step - loss: 0.2230 - accuracy: 0.9170 - val_loss: 0.2252 - val_accuracy: 0.9185\n",
            "Epoch 19/20\n",
            "1688/1688 [==============================] - 9s 6ms/step - loss: 0.2195 - accuracy: 0.9177 - val_loss: 0.2174 - val_accuracy: 0.9198\n",
            "Epoch 20/20\n",
            "1688/1688 [==============================] - 10s 6ms/step - loss: 0.2219 - accuracy: 0.9167 - val_loss: 0.2115 - val_accuracy: 0.9227\n"
          ]
        }
      ]
    },
    {
      "cell_type": "markdown",
      "source": [
        "Now lets take a look at how our model trained."
      ],
      "metadata": {
        "id": "ga5bVXFvJF4f"
      }
    },
    {
      "cell_type": "code",
      "source": [
        "plotAccuracy(history2,True)"
      ],
      "metadata": {
        "colab": {
          "base_uri": "https://localhost:8080/",
          "height": 295
        },
        "id": "xNJtw3JZ8vpc",
        "outputId": "0a27ff99-7f97-40e0-9335-35b1b54abde9"
      },
      "execution_count": 44,
      "outputs": [
        {
          "output_type": "display_data",
          "data": {
            "text/plain": [
              "<Figure size 504x288 with 1 Axes>"
            ],
            "image/png": "[encoded data removed]"
          },
          "metadata": {
            "needs_background": "light"
          }
        }
      ]
    },
    {
      "cell_type": "markdown",
      "source": [
        "### Evaluating our CNN"
      ],
      "metadata": {
        "id": "s82UVkp7JNmU"
      }
    },
    {
      "cell_type": "code",
      "source": [
        "loss_cnn, accuracy_cnn = model2.evaluate(x_test_norm,y_test)"
      ],
      "metadata": {
        "colab": {
          "base_uri": "https://localhost:8080/"
        },
        "id": "3-5e5TEx-Z81",
        "outputId": "883dccaf-a981-4cf5-d69f-a982fd2543d4"
      },
      "execution_count": 45,
      "outputs": [
        {
          "output_type": "stream",
          "name": "stdout",
          "text": [
            "313/313 [==============================] - 1s 4ms/step - loss: 0.2241 - accuracy: 0.9202\n"
          ]
        }
      ]
    },
    {
      "cell_type": "code",
      "source": [
        "print(f\"The accuracy received on Test data is: {accuracy_cnn*100:.2f}%\")"
      ],
      "metadata": {
        "colab": {
          "base_uri": "https://localhost:8080/"
        },
        "id": "_jw79QwS-i8c",
        "outputId": "441ab33a-b28f-4f1b-c271-fbffc00dcafb"
      },
      "execution_count": 46,
      "outputs": [
        {
          "output_type": "stream",
          "name": "stdout",
          "text": [
            "The accuracy received on Test data is: 92.02%\n"
          ]
        }
      ]
    },
    {
      "cell_type": "code",
      "source": [
        "from sklearn.metrics import f1_score, precision_score, recall_score\n",
        "\n",
        "y_pred3 = model2.predict(x_test_norm)\n",
        "y_pred3 = np.argmax(y_pred3, axis=1)\n",
        "CNN_f1_score = f1_score(y_test,y_pred3, average = 'weighted')\n",
        "CNN_precision_score = precision_score(y_test,y_pred3, average = 'weighted')\n",
        "CNN_recall_score = f1_score(y_test,y_pred3, average = 'weighted')\n",
        "\n",
        "print(f'F1 score = {CNN_f1_score*100:.02f} \\nPrecision = {CNN_precision_score*100:.02f} \\nRecall = {CNN_recall_score*100:.02f}')"
      ],
      "metadata": {
        "colab": {
          "base_uri": "https://localhost:8080/"
        },
        "id": "YVPIQZAA-xrA",
        "outputId": "7fbe1e7b-0ea0-4f29-ac26-15ba55d5dffc"
      },
      "execution_count": 47,
      "outputs": [
        {
          "output_type": "stream",
          "name": "stdout",
          "text": [
            "F1 score = 92.00 \n",
            "Precision = 92.05 \n",
            "Recall = 92.00\n"
          ]
        }
      ]
    },
    {
      "cell_type": "markdown",
      "source": [
        "Plotting a Confusion Matrix"
      ],
      "metadata": {
        "id": "qLFImyicJQoE"
      }
    },
    {
      "cell_type": "code",
      "source": [
        "from sklearn.metrics import confusion_matrix\n",
        "cm3 = confusion_matrix(y_test,y_pred3, normalize='true')"
      ],
      "metadata": {
        "id": "PoTyKT3tJW6Q"
      },
      "execution_count": 48,
      "outputs": []
    },
    {
      "cell_type": "code",
      "source": [
        "from sklearn.metrics import ConfusionMatrixDisplay\n",
        "disp = ConfusionMatrixDisplay(cm3*100, display_labels=class_labels)\n",
        "disp.plot()"
      ],
      "metadata": {
        "colab": {
          "base_uri": "https://localhost:8080/",
          "height": 568
        },
        "id": "sOuKOmXrJcPl",
        "outputId": "21dda797-d969-4c87-c449-3e9f4380f777"
      },
      "execution_count": 49,
      "outputs": [
        {
          "output_type": "execute_result",
          "data": {
            "text/plain": [
              "<sklearn.metrics._plot.confusion_matrix.ConfusionMatrixDisplay at 0x7ff346edc7d0>"
            ]
          },
          "metadata": {},
          "execution_count": 49
        },
        {
          "output_type": "display_data",
          "data": {
            "text/plain": [
              "<Figure size 1152x648 with 2 Axes>"
            ],
            "image/png": "[encoded data removed]"
          },
          "metadata": {
            "needs_background": "light"
          }
        }
      ]
    },
    {
      "cell_type": "markdown",
      "source": [
        "Here we can note that the accuracy of shirt has increase from 57 to 74 by using a convolutional neural network. This is due to the fact that convulotional neural networks are great for finding patterns in images. This is also why we got highest accuracy and F1 score for the CNN model."
      ],
      "metadata": {
        "id": "xs7TDYg-4dWq"
      }
    },
    {
      "cell_type": "code",
      "source": [
        "accuracy = [KNN_accuracy,accuracy_nn,accuracy_cnn]\n",
        "precision = [KNN_precision_score,NN_precision_score,CNN_precision_score]\n",
        "recall = [KNN_recall_score,NN_recall_score,CNN_recall_score]\n",
        "f1_score = [KNN_f1_score,NN_f1_score,CNN_f1_score]\n",
        "x = ['K Nearest Neighbors',\"Single layer NN\", \"CNN\"]\n",
        "from pylab import rcParams\n",
        "rcParams['figure.figsize'] = 12, 6\n",
        "fig, ax = plt.subplots()\n",
        "ax.plot(x,accuracy)\n",
        "ax.plot(x,precision)\n",
        "ax.plot(x,recall)\n",
        "ax.plot(x,f1_score)\n",
        "ax.set_xticks(x)\n",
        "plt.xlabel(\"Type of model used\", fontsize = 16)\n",
        "plt.ylabel(\"Accuracy of model\", fontsize = 16)\n",
        "plt.legend(['Accuracy', 'Precision', 'Recall', 'F1_score'], loc='upper left')\n",
        "plt.title(\"Accuracy of various models for Fashion mnist Data\", fontsize = 20)\n",
        "plt.show()"
      ],
      "metadata": {
        "colab": {
          "base_uri": "https://localhost:8080/",
          "height": 414
        },
        "id": "N-5BKAxFCBxU",
        "outputId": "a4633871-15c6-4467-e668-2c011094b192"
      },
      "execution_count": 67,
      "outputs": [
        {
          "output_type": "display_data",
          "data": {
            "text/plain": [
              "<Figure size 864x432 with 1 Axes>"
            ],
            "image/png": "[encoded data removed]"
          },
          "metadata": {
            "needs_background": "light"
          }
        }
      ]
    },
    {
      "cell_type": "markdown",
      "source": [
        "Above graph demonstrates how using a Neural network is  better for image classification and how adding Convulotional layers to our neural network can boost our model's accuracy."
      ],
      "metadata": {
        "id": "VxWyM2wd47Il"
      }
    }
  ]
}