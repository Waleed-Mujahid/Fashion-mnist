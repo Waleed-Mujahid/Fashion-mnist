{
  "nbformat": 4,
  "nbformat_minor": 0,
  "metadata": {
    "colab": {
      "name": "Tukl_A_3.ipynb",
      "provenance": [],
      "authorship_tag": "ABX9TyP0IKUWuRZL2TeykjtKQOnL",
      "include_colab_link": true
    },
    "kernelspec": {
      "name": "python3",
      "display_name": "Python 3"
    },
    "language_info": {
      "name": "python"
    },
    "accelerator": "GPU",
    "gpuClass": "standard"
  },
  "cells": [
    {
      "cell_type": "markdown",
      "metadata": {
        "id": "view-in-github",
        "colab_type": "text"
      },
      "source": [
        "<a href=\"https://colab.research.google.com/github/Waleed-Mujahid/Fashion-mnist/blob/main/Tukl_A_3.ipynb\" target=\"_parent\"><img src=\"https://colab.research.google.com/assets/colab-badge.svg\" alt=\"Open In Colab\"/></a>"
      ]
    },
    {
      "cell_type": "markdown",
      "source": [
        "# Comparison of KNN, Single layer NN and CNN using Fashion-mnist"
      ],
      "metadata": {
        "id": "dEfszOQPGqyR"
      }
    },
    {
      "cell_type": "markdown",
      "source": [
        "## Importing Dependecies"
      ],
      "metadata": {
        "id": "UErA09TwEtu3"
      }
    },
    {
      "cell_type": "code",
      "execution_count": 1,
      "metadata": {
        "id": "US0A4I2fvxqH"
      },
      "outputs": [],
      "source": [
        "import tensorflow as tf\n",
        "import pandas as pd\n",
        "import matplotlib.pyplot as plt\n",
        "import numpy as np\n",
        "import keras\n",
        "import tensorflow as tf\n",
        "from keras.models import Sequential\n",
        "from keras.layers import Conv2D, MaxPooling2D, Flatten, Dense, Dropout"
      ]
    },
    {
      "cell_type": "markdown",
      "source": [
        "## Loading our Dataset"
      ],
      "metadata": {
        "id": "6z9FfbCNExSv"
      }
    },
    {
      "cell_type": "code",
      "source": [
        "(x_train, y_train), (x_test, y_test) = tf.keras.datasets.fashion_mnist.load_data()"
      ],
      "metadata": {
        "id": "HlJ_ixnywAwl"
      },
      "execution_count": 2,
      "outputs": []
    },
    {
      "cell_type": "markdown",
      "source": [
        "Let us take a look at the datatype of the dataset"
      ],
      "metadata": {
        "id": "1uTnEboiE0k7"
      }
    },
    {
      "cell_type": "code",
      "source": [
        "print(type(x_train))"
      ],
      "metadata": {
        "colab": {
          "base_uri": "https://localhost:8080/"
        },
        "id": "XzS_0IGKweOW",
        "outputId": "26c6fcfb-c1e8-4337-e26e-1010b7121ae7"
      },
      "execution_count": 3,
      "outputs": [
        {
          "output_type": "stream",
          "name": "stdout",
          "text": [
            "<class 'numpy.ndarray'>\n"
          ]
        }
      ]
    },
    {
      "cell_type": "markdown",
      "source": [
        "So we have an N dimensional numpy array"
      ],
      "metadata": {
        "id": "t5ndfSp6FNiB"
      }
    },
    {
      "cell_type": "markdown",
      "source": [
        "Now lets look at the shape of Train and Test datasets"
      ],
      "metadata": {
        "id": "FaZcf6xkE5FJ"
      }
    },
    {
      "cell_type": "code",
      "source": [
        "print(x_train.shape, x_test.shape)"
      ],
      "metadata": {
        "colab": {
          "base_uri": "https://localhost:8080/"
        },
        "id": "wuZ2P5l-wfRJ",
        "outputId": "c95d2af0-6540-42c2-c267-683cc9d5f5e0"
      },
      "execution_count": 4,
      "outputs": [
        {
          "output_type": "stream",
          "name": "stdout",
          "text": [
            "(60000, 28, 28) (10000, 28, 28)\n"
          ]
        }
      ]
    },
    {
      "cell_type": "code",
      "source": [
        "img_size = x_train.shape[1]"
      ],
      "metadata": {
        "id": "fCOQaCGOFYfp"
      },
      "execution_count": 5,
      "outputs": []
    },
    {
      "cell_type": "markdown",
      "source": [
        "We need a 2d numpy array to apply K nearest Neighbours classifier so we reshape our dataset."
      ],
      "metadata": {
        "id": "mX7qaQSnFBMY"
      }
    },
    {
      "cell_type": "code",
      "source": [
        "x_train = x_train.reshape((x_train.shape[0],-1))\n",
        "x_test = x_test.reshape((x_test.shape[0],-1))"
      ],
      "metadata": {
        "id": "gBUK4pLyx8Yn"
      },
      "execution_count": 6,
      "outputs": []
    },
    {
      "cell_type": "code",
      "source": [
        "print(x_train.shape, x_test.shape)"
      ],
      "metadata": {
        "colab": {
          "base_uri": "https://localhost:8080/"
        },
        "id": "ObJczenq2FdL",
        "outputId": "64059bc7-dc7b-4977-83c5-1d21fb9a2382"
      },
      "execution_count": 7,
      "outputs": [
        {
          "output_type": "stream",
          "name": "stdout",
          "text": [
            "(60000, 784) (10000, 784)\n"
          ]
        }
      ]
    },
    {
      "cell_type": "code",
      "source": [
        "print(y_train.shape)"
      ],
      "metadata": {
        "colab": {
          "base_uri": "https://localhost:8080/"
        },
        "id": "E4hbesbr6dcj",
        "outputId": "a4e7a5a0-0aa9-45f1-fc3b-13821205a419"
      },
      "execution_count": 8,
      "outputs": [
        {
          "output_type": "stream",
          "name": "stdout",
          "text": [
            "(60000,)\n"
          ]
        }
      ]
    },
    {
      "cell_type": "markdown",
      "source": [
        "**Point to be noted:** Our labels are not one hot encoded"
      ],
      "metadata": {
        "id": "1n-ZL2BGF4wE"
      }
    },
    {
      "cell_type": "markdown",
      "source": [
        "## K Nearest Neighbour Model\n",
        "### Pre-processing our Data"
      ],
      "metadata": {
        "id": "Tx6py8tQGkIV"
      }
    },
    {
      "cell_type": "markdown",
      "source": [
        "First we normalize our data using Sklearn pre-processing"
      ],
      "metadata": {
        "id": "tQvb2TjaF-4E"
      }
    },
    {
      "cell_type": "code",
      "source": [
        "from sklearn.preprocessing import Normalizer\n",
        "norm = Normalizer()\n",
        "\n",
        "x_train_norm = norm.fit_transform(x_train)\n",
        "x_test_norm = norm.transform(x_test)"
      ],
      "metadata": {
        "id": "TFXi7XB2w9dH"
      },
      "execution_count": 9,
      "outputs": []
    },
    {
      "cell_type": "markdown",
      "source": [
        "**Note:** We fit the normalizer on only the train data so we do not face any overfitting. Transform is done on both as it normalizes the data while fit calculates average and standard deviation."
      ],
      "metadata": {
        "id": "tmE8JVjKGIgD"
      }
    },
    {
      "cell_type": "markdown",
      "source": [
        "Next we use Sklearn's K nearest neighbours to classify the data"
      ],
      "metadata": {
        "id": "7S82LTfAGDkD"
      }
    },
    {
      "cell_type": "markdown",
      "source": [
        "### Training the Model"
      ],
      "metadata": {
        "id": "zOO_MbXGG6Hl"
      }
    },
    {
      "cell_type": "code",
      "source": [
        "from sklearn.neighbors import KNeighborsClassifier\n",
        "classifier = KNeighborsClassifier()\n",
        "classifier.fit(x_train_norm,y_train)"
      ],
      "metadata": {
        "colab": {
          "base_uri": "https://localhost:8080/"
        },
        "id": "KX8QHJ_Lxwk9",
        "outputId": "4382f801-15a6-437c-8a27-56cf4877c2c6"
      },
      "execution_count": 10,
      "outputs": [
        {
          "output_type": "execute_result",
          "data": {
            "text/plain": [
              "KNeighborsClassifier()"
            ]
          },
          "metadata": {},
          "execution_count": 10
        }
      ]
    },
    {
      "cell_type": "markdown",
      "source": [
        "### Evalutaing the Model"
      ],
      "metadata": {
        "id": "BWR1dc5rG_TY"
      }
    },
    {
      "cell_type": "code",
      "source": [
        "from sklearn.metrics import accuracy_score\n",
        "y_pred = classifier.predict(x_test_norm)\n",
        "KNN_accuracy = accuracy_score(y_test,y_pred)"
      ],
      "metadata": {
        "id": "UolUMyzL2cpZ"
      },
      "execution_count": 11,
      "outputs": []
    },
    {
      "cell_type": "code",
      "source": [
        "print(f'So the accuracy for N nearest neighbours is {KNN_accuracy*100} ')"
      ],
      "metadata": {
        "colab": {
          "base_uri": "https://localhost:8080/"
        },
        "id": "w0gZmUxf2tsd",
        "outputId": "e4861bee-0f42-4bf3-ef3e-a851199eea62"
      },
      "execution_count": 12,
      "outputs": [
        {
          "output_type": "stream",
          "name": "stdout",
          "text": [
            "So the accuracy for N nearest neighbours is 85.78 \n"
          ]
        }
      ]
    },
    {
      "cell_type": "code",
      "source": [
        "from sklearn.metrics import f1_score, precision_score, recall_score\n",
        "KNN_f1_score = f1_score(y_test,y_pred, average = 'weighted')\n",
        "KNN_precision_score = precision_score(y_test,y_pred, average = 'weighted')\n",
        "KNN_recall_score = f1_score(y_test,y_pred, average = 'weighted')\n",
        "\n",
        "print(f'F1 score = {KNN_f1_score*100:.02f} \\nPrecision = {KNN_precision_score*100:.02f} \\nRecall = {KNN_recall_score*100:.02f}')"
      ],
      "metadata": {
        "colab": {
          "base_uri": "https://localhost:8080/"
        },
        "id": "ryGXBXM12-q-",
        "outputId": "cfd48f85-7324-4cde-d8fb-fc98de2c6918"
      },
      "execution_count": 13,
      "outputs": [
        {
          "output_type": "stream",
          "name": "stdout",
          "text": [
            "F1 score = 85.60 \n",
            "Precision = 86.23 \n",
            "Recall = 85.60\n"
          ]
        }
      ]
    },
    {
      "cell_type": "markdown",
      "source": [
        "### Plotting confusion Matrix"
      ],
      "metadata": {
        "id": "S13sweG7HEfc"
      }
    },
    {
      "cell_type": "code",
      "source": [
        "params = {'figure.figsize': (10, 7)}\n",
        "plt.rcParams.update(params)"
      ],
      "metadata": {
        "id": "F6g3DgXw_XgV"
      },
      "execution_count": 14,
      "outputs": []
    },
    {
      "cell_type": "code",
      "source": [
        "from sklearn.metrics import confusion_matrix\n",
        "cm1 = confusion_matrix(y_test,y_pred, normalize='true')"
      ],
      "metadata": {
        "id": "hSRp_AhB_AbO"
      },
      "execution_count": 15,
      "outputs": []
    },
    {
      "cell_type": "code",
      "source": [
        "from sklearn.metrics import ConfusionMatrixDisplay\n",
        "disp = ConfusionMatrixDisplay(cm1*100)\n",
        "disp.plot()"
      ],
      "metadata": {
        "colab": {
          "base_uri": "https://localhost:8080/",
          "height": 459
        },
        "id": "Fdp8chbq_DpR",
        "outputId": "dfb28ec0-5f07-4952-83bc-db3db6231286"
      },
      "execution_count": 16,
      "outputs": [
        {
          "output_type": "execute_result",
          "data": {
            "text/plain": [
              "<sklearn.metrics._plot.confusion_matrix.ConfusionMatrixDisplay at 0x7f1d36d47b10>"
            ]
          },
          "metadata": {},
          "execution_count": 16
        },
        {
          "output_type": "display_data",
          "data": {
            "text/plain": [
              "<Figure size 720x504 with 2 Axes>"
            ],
            "image/png": "[encoded data removed]"
          },
          "metadata": {
            "needs_background": "light"
          }
        }
      ]
    },
    {
      "cell_type": "markdown",
      "source": [
        "## Importing helper functions"
      ],
      "metadata": {
        "id": "GjLMf9nVHNdC"
      }
    },
    {
      "cell_type": "code",
      "source": [
        "!wget https://raw.githubusercontent.com/Waleed-Mujahid/Coding/master/colabUtils.py"
      ],
      "metadata": {
        "colab": {
          "base_uri": "https://localhost:8080/"
        },
        "id": "jAZzl6475_je",
        "outputId": "45254077-8d29-4013-eab8-10f2759af9f2"
      },
      "execution_count": 17,
      "outputs": [
        {
          "output_type": "stream",
          "name": "stdout",
          "text": [
            "--2022-07-18 07:12:33--  https://raw.githubusercontent.com/Waleed-Mujahid/Coding/master/colabUtils.py\n",
            "Resolving raw.githubusercontent.com (raw.githubusercontent.com)... 185.199.108.133, 185.199.109.133, 185.199.110.133, ...\n",
            "Connecting to raw.githubusercontent.com (raw.githubusercontent.com)|185.199.108.133|:443... connected.\n",
            "HTTP request sent, awaiting response... 200 OK\n",
            "Length: 1625 (1.6K) [text/plain]\n",
            "Saving to: ‘colabUtils.py.1’\n",
            "\n",
            "\rcolabUtils.py.1       0%[                    ]       0  --.-KB/s               \rcolabUtils.py.1     100%[===================>]   1.59K  --.-KB/s    in 0s      \n",
            "\n",
            "2022-07-18 07:12:34 (36.4 MB/s) - ‘colabUtils.py.1’ saved [1625/1625]\n",
            "\n"
          ]
        }
      ]
    },
    {
      "cell_type": "code",
      "source": [
        "from colabUtils import *"
      ],
      "metadata": {
        "id": "zY4M5yUk6CAe"
      },
      "execution_count": 18,
      "outputs": []
    },
    {
      "cell_type": "markdown",
      "source": [
        "## Single Layer Neural Network"
      ],
      "metadata": {
        "id": "_4ANbIiiHX5L"
      }
    },
    {
      "cell_type": "markdown",
      "source": [
        "### Building our Neural Network\n",
        "\n"
      ],
      "metadata": {
        "id": "tM4EZPLTHfti"
      }
    },
    {
      "cell_type": "code",
      "source": [
        "model = Sequential()\n",
        "model.add(Dense(512, input_shape = x_train_norm[0].shape , activation = 'relu'))\n",
        "model.add(Dense(10, activation = 'softmax'))\n",
        "\n",
        "model.summary()"
      ],
      "metadata": {
        "colab": {
          "base_uri": "https://localhost:8080/"
        },
        "id": "V9RfUDU848JD",
        "outputId": "25cb5d71-6f33-4042-d37d-42be7d620895"
      },
      "execution_count": 19,
      "outputs": [
        {
          "output_type": "stream",
          "name": "stdout",
          "text": [
            "Model: \"sequential\"\n",
            "_________________________________________________________________\n",
            " Layer (type)                Output Shape              Param #   \n",
            "=================================================================\n",
            " dense (Dense)               (None, 512)               401920    \n",
            "                                                                 \n",
            " dense_1 (Dense)             (None, 10)                5130      \n",
            "                                                                 \n",
            "=================================================================\n",
            "Total params: 407,050\n",
            "Trainable params: 407,050\n",
            "Non-trainable params: 0\n",
            "_________________________________________________________________\n"
          ]
        }
      ]
    },
    {
      "cell_type": "markdown",
      "source": [
        "### Fitting the model on Data"
      ],
      "metadata": {
        "id": "GJiFb4cDHjgm"
      }
    },
    {
      "cell_type": "code",
      "source": [
        "model.compile(loss=tf.keras.losses.sparse_categorical_crossentropy,\n",
        "optimizer=tf.keras.optimizers.Adam(learning_rate=0.001),\n",
        "metrics=['accuracy'])"
      ],
      "metadata": {
        "id": "fz8XE4yr6ZY_"
      },
      "execution_count": 20,
      "outputs": []
    },
    {
      "cell_type": "code",
      "source": [
        "history = model.fit(x_train_norm, y_train, validation_split=0.1, epochs = 10)"
      ],
      "metadata": {
        "colab": {
          "base_uri": "https://localhost:8080/"
        },
        "id": "PvyILxft5w3C",
        "outputId": "450f017b-e9a9-4c3a-d95a-08f5a31bd5d2"
      },
      "execution_count": 21,
      "outputs": [
        {
          "output_type": "stream",
          "name": "stdout",
          "text": [
            "Epoch 1/10\n",
            "1688/1688 [==============================] - 6s 3ms/step - loss: 0.5412 - accuracy: 0.8080 - val_loss: 0.4265 - val_accuracy: 0.8450\n",
            "Epoch 2/10\n",
            "1688/1688 [==============================] - 5s 3ms/step - loss: 0.3894 - accuracy: 0.8589 - val_loss: 0.3642 - val_accuracy: 0.8655\n",
            "Epoch 3/10\n",
            "1688/1688 [==============================] - 4s 3ms/step - loss: 0.3494 - accuracy: 0.8729 - val_loss: 0.3488 - val_accuracy: 0.8693\n",
            "Epoch 4/10\n",
            "1688/1688 [==============================] - 5s 3ms/step - loss: 0.3211 - accuracy: 0.8824 - val_loss: 0.3369 - val_accuracy: 0.8728\n",
            "Epoch 5/10\n",
            "1688/1688 [==============================] - 4s 3ms/step - loss: 0.3007 - accuracy: 0.8896 - val_loss: 0.3268 - val_accuracy: 0.8787\n",
            "Epoch 6/10\n",
            "1688/1688 [==============================] - 5s 3ms/step - loss: 0.2843 - accuracy: 0.8954 - val_loss: 0.3178 - val_accuracy: 0.8813\n",
            "Epoch 7/10\n",
            "1688/1688 [==============================] - 4s 3ms/step - loss: 0.2685 - accuracy: 0.8994 - val_loss: 0.3219 - val_accuracy: 0.8743\n",
            "Epoch 8/10\n",
            "1688/1688 [==============================] - 4s 3ms/step - loss: 0.2575 - accuracy: 0.9042 - val_loss: 0.3245 - val_accuracy: 0.8807\n",
            "Epoch 9/10\n",
            "1688/1688 [==============================] - 4s 3ms/step - loss: 0.2469 - accuracy: 0.9081 - val_loss: 0.3163 - val_accuracy: 0.8853\n",
            "Epoch 10/10\n",
            "1688/1688 [==============================] - 6s 4ms/step - loss: 0.2375 - accuracy: 0.9124 - val_loss: 0.3090 - val_accuracy: 0.8898\n"
          ]
        }
      ]
    },
    {
      "cell_type": "markdown",
      "source": [
        "now lets take a look at home our model trained"
      ],
      "metadata": {
        "id": "MZvNAgw-HtfP"
      }
    },
    {
      "cell_type": "code",
      "source": [
        "plotAccuracy(history,True)"
      ],
      "metadata": {
        "colab": {
          "base_uri": "https://localhost:8080/",
          "height": 295
        },
        "id": "wSfXHphJ6lK8",
        "outputId": "95f8528e-e9ec-4939-a676-fb43713d581d"
      },
      "execution_count": 22,
      "outputs": [
        {
          "output_type": "display_data",
          "data": {
            "text/plain": [
              "<Figure size 504x288 with 1 Axes>"
            ],
            "image/png": "[encoded data removed]"
          },
          "metadata": {
            "needs_background": "light"
          }
        }
      ]
    },
    {
      "cell_type": "markdown",
      "source": [
        "### Evaluating the Model"
      ],
      "metadata": {
        "id": "Y1mmzv0JHxKi"
      }
    },
    {
      "cell_type": "code",
      "source": [
        "loss, accuracy_nn = model.evaluate(x_test_norm,y_test)"
      ],
      "metadata": {
        "colab": {
          "base_uri": "https://localhost:8080/"
        },
        "id": "y5w0eKe26rr3",
        "outputId": "435b9d94-05cd-4818-a8bd-1a7f9b5f02bc"
      },
      "execution_count": 23,
      "outputs": [
        {
          "output_type": "stream",
          "name": "stdout",
          "text": [
            "313/313 [==============================] - 1s 2ms/step - loss: 0.3281 - accuracy: 0.8846\n"
          ]
        }
      ]
    },
    {
      "cell_type": "code",
      "source": [
        "print(f\"The accuracy received on Test data is: {accuracy_nn*100:.2f}%\")"
      ],
      "metadata": {
        "colab": {
          "base_uri": "https://localhost:8080/"
        },
        "id": "ct32Jikz7AAV",
        "outputId": "f0519edd-734a-4316-e3e8-7ed576569ac8"
      },
      "execution_count": 24,
      "outputs": [
        {
          "output_type": "stream",
          "name": "stdout",
          "text": [
            "The accuracy received on Test data is: 88.46%\n"
          ]
        }
      ]
    },
    {
      "cell_type": "code",
      "source": [
        "from sklearn.metrics import f1_score, precision_score, recall_score\n",
        "\n",
        "y_pred2 = model.predict(x_test_norm)\n",
        "y_pred2 = np.argmax(y_pred2, axis=1)\n",
        "NN_f1_score = f1_score(y_test,y_pred2, average = 'weighted')\n",
        "NN_precision_score = precision_score(y_test,y_pred2, average = 'weighted')\n",
        "NN_recall_score = f1_score(y_test,y_pred2, average = 'weighted')\n",
        "\n",
        "print(f'F1 score = {NN_f1_score*100:.02f} \\nPrecision = {NN_precision_score*100:.02f} \\nRecall = {NN_recall_score*100:.02f}')"
      ],
      "metadata": {
        "colab": {
          "base_uri": "https://localhost:8080/"
        },
        "id": "_kVQH_7aAaB1",
        "outputId": "37b899a1-9ab3-430d-9c47-a5dedf2b09c9"
      },
      "execution_count": 25,
      "outputs": [
        {
          "output_type": "stream",
          "name": "stdout",
          "text": [
            "F1 score = 88.42 \n",
            "Precision = 88.49 \n",
            "Recall = 88.42\n"
          ]
        }
      ]
    },
    {
      "cell_type": "markdown",
      "source": [
        "### Plotting a Confusion Matrix"
      ],
      "metadata": {
        "id": "QBWx7oaRIbvx"
      }
    },
    {
      "cell_type": "code",
      "source": [
        "from sklearn.metrics import confusion_matrix\n",
        "cm2 = confusion_matrix(y_test,y_pred2, normalize='true')"
      ],
      "metadata": {
        "id": "43x3DkVjIeFj"
      },
      "execution_count": 26,
      "outputs": []
    },
    {
      "cell_type": "code",
      "source": [
        "from sklearn.metrics import ConfusionMatrixDisplay\n",
        "disp = ConfusionMatrixDisplay(cm2*100)\n",
        "disp.plot()"
      ],
      "metadata": {
        "colab": {
          "base_uri": "https://localhost:8080/",
          "height": 459
        },
        "id": "dOZRDOy6IleQ",
        "outputId": "71407434-e749-4692-c999-7b98a78486bf"
      },
      "execution_count": 27,
      "outputs": [
        {
          "output_type": "execute_result",
          "data": {
            "text/plain": [
              "<sklearn.metrics._plot.confusion_matrix.ConfusionMatrixDisplay at 0x7f1cb63392d0>"
            ]
          },
          "metadata": {},
          "execution_count": 27
        },
        {
          "output_type": "display_data",
          "data": {
            "text/plain": [
              "<Figure size 720x504 with 2 Axes>"
            ],
            "image/png": "[encoded data removed]"
          },
          "metadata": {
            "needs_background": "light"
          }
        }
      ]
    },
    {
      "cell_type": "markdown",
      "source": [
        "## Convulotional Neural Network"
      ],
      "metadata": {
        "id": "gkz5zpz4ItPD"
      }
    },
    {
      "cell_type": "markdown",
      "source": [
        "First we resize our data bach into 2d images as it is a requirement for Conv layers."
      ],
      "metadata": {
        "id": "jtTFoYcaI0R0"
      }
    },
    {
      "cell_type": "code",
      "source": [
        "x_train_norm = x_train_norm.reshape(x_train_norm.shape[0],img_size,img_size)\n",
        "x_test_norm = x_test_norm.reshape(x_test_norm.shape[0],img_size,img_size)"
      ],
      "metadata": {
        "id": "sDkznmLJ7F-0"
      },
      "execution_count": 28,
      "outputs": []
    },
    {
      "cell_type": "code",
      "source": [
        "print(x_train_norm.shape,x_test_norm.shape)\n",
        "print(y_train.shape)"
      ],
      "metadata": {
        "colab": {
          "base_uri": "https://localhost:8080/"
        },
        "id": "bC8Qhtge7V5J",
        "outputId": "d800be01-5ad2-48a9-ed72-8e33cd6e5de9"
      },
      "execution_count": 29,
      "outputs": [
        {
          "output_type": "stream",
          "name": "stdout",
          "text": [
            "(60000, 28, 28) (10000, 28, 28)\n",
            "(60000,)\n"
          ]
        }
      ]
    },
    {
      "cell_type": "markdown",
      "source": [
        "### Building our CNN"
      ],
      "metadata": {
        "id": "VHlyzGbOI9Wd"
      }
    },
    {
      "cell_type": "code",
      "source": [
        "model2 = Sequential()\n",
        "model2.add(Conv2D(32, (5, 5), padding = 'same' , input_shape=(img_size,img_size,1)))  # Input size of all images must be standard for model\n",
        "model2.add(keras.layers.Activation('relu'))\n",
        "model2.add(Conv2D(32, (5, 5), padding = 'same'))\n",
        "model2.add(keras.layers.Activation('relu'))\n",
        "model2.add(MaxPooling2D(strides=2))\n",
        "model2.add(Dropout(0.4))\n",
        "\n",
        "model2.add(Conv2D(64, (5, 5) , padding = 'same'))\n",
        "model2.add(keras.layers.Activation('relu'))\n",
        "model2.add(Conv2D(64, (5, 5) , padding = 'same'))\n",
        "model2.add(keras.layers.Activation('relu'))\n",
        "model2.add(MaxPooling2D(strides=2))\n",
        "model2.add(Dropout(0.4))\n",
        "\n",
        "model2.add(Conv2D(128, (3, 3) , padding = 'same'))\n",
        "model2.add(keras.layers.Activation('relu'))\n",
        "model2.add(Conv2D(128, (3, 3) , padding = 'same'))\n",
        "model2.add(keras.layers.Activation('relu'))\n",
        "model2.add(MaxPooling2D(strides=2))\n",
        "model2.add(Dropout(0.4))\n",
        "\n",
        "\n",
        "model2.add(Flatten())\n",
        "model2.add(Dense(10, activation='softmax')) \n",
        "\n",
        "model2.summary()"
      ],
      "metadata": {
        "colab": {
          "base_uri": "https://localhost:8080/"
        },
        "id": "jSFDZGrx7czP",
        "outputId": "d930766f-a136-4de2-9ef4-067ec89d66d9"
      },
      "execution_count": 32,
      "outputs": [
        {
          "output_type": "stream",
          "name": "stdout",
          "text": [
            "Model: \"sequential_3\"\n",
            "_________________________________________________________________\n",
            " Layer (type)                Output Shape              Param #   \n",
            "=================================================================\n",
            " conv2d_7 (Conv2D)           (None, 28, 28, 32)        832       \n",
            "                                                                 \n",
            " activation_6 (Activation)   (None, 28, 28, 32)        0         \n",
            "                                                                 \n",
            " conv2d_8 (Conv2D)           (None, 28, 28, 32)        25632     \n",
            "                                                                 \n",
            " activation_7 (Activation)   (None, 28, 28, 32)        0         \n",
            "                                                                 \n",
            " max_pooling2d_3 (MaxPooling  (None, 14, 14, 32)       0         \n",
            " 2D)                                                             \n",
            "                                                                 \n",
            " dropout_3 (Dropout)         (None, 14, 14, 32)        0         \n",
            "                                                                 \n",
            " conv2d_9 (Conv2D)           (None, 14, 14, 64)        51264     \n",
            "                                                                 \n",
            " activation_8 (Activation)   (None, 14, 14, 64)        0         \n",
            "                                                                 \n",
            " conv2d_10 (Conv2D)          (None, 14, 14, 64)        102464    \n",
            "                                                                 \n",
            " activation_9 (Activation)   (None, 14, 14, 64)        0         \n",
            "                                                                 \n",
            " max_pooling2d_4 (MaxPooling  (None, 7, 7, 64)         0         \n",
            " 2D)                                                             \n",
            "                                                                 \n",
            " dropout_4 (Dropout)         (None, 7, 7, 64)          0         \n",
            "                                                                 \n",
            " conv2d_11 (Conv2D)          (None, 7, 7, 128)         73856     \n",
            "                                                                 \n",
            " activation_10 (Activation)  (None, 7, 7, 128)         0         \n",
            "                                                                 \n",
            " conv2d_12 (Conv2D)          (None, 7, 7, 128)         147584    \n",
            "                                                                 \n",
            " activation_11 (Activation)  (None, 7, 7, 128)         0         \n",
            "                                                                 \n",
            " max_pooling2d_5 (MaxPooling  (None, 3, 3, 128)        0         \n",
            " 2D)                                                             \n",
            "                                                                 \n",
            " dropout_5 (Dropout)         (None, 3, 3, 128)         0         \n",
            "                                                                 \n",
            " flatten_1 (Flatten)         (None, 1152)              0         \n",
            "                                                                 \n",
            " dense_3 (Dense)             (None, 10)                11530     \n",
            "                                                                 \n",
            "=================================================================\n",
            "Total params: 413,162\n",
            "Trainable params: 413,162\n",
            "Non-trainable params: 0\n",
            "_________________________________________________________________\n"
          ]
        }
      ]
    },
    {
      "cell_type": "markdown",
      "source": [
        "### Fitting our CNN"
      ],
      "metadata": {
        "id": "1Jm18S_0JB2d"
      }
    },
    {
      "cell_type": "code",
      "source": [
        "model2.compile(loss=tf.keras.losses.sparse_categorical_crossentropy,\n",
        "optimizer=tf.keras.optimizers.Adam(learning_rate=0.001),\n",
        "metrics=['accuracy'])"
      ],
      "metadata": {
        "id": "6p87tfaV8LEA"
      },
      "execution_count": 33,
      "outputs": []
    },
    {
      "cell_type": "code",
      "source": [
        "history2 = model2.fit(x_train_norm, y_train, validation_split=0.1, epochs = 10)"
      ],
      "metadata": {
        "colab": {
          "base_uri": "https://localhost:8080/"
        },
        "id": "4uggh0hU8aM1",
        "outputId": "8703d142-2f6e-4527-8015-88aa814d2839"
      },
      "execution_count": 34,
      "outputs": [
        {
          "output_type": "stream",
          "name": "stdout",
          "text": [
            "Epoch 1/10\n",
            "1688/1688 [==============================] - 12s 6ms/step - loss: 0.5663 - accuracy: 0.7915 - val_loss: 0.3492 - val_accuracy: 0.8653\n",
            "Epoch 2/10\n",
            "1688/1688 [==============================] - 10s 6ms/step - loss: 0.3651 - accuracy: 0.8653 - val_loss: 0.2979 - val_accuracy: 0.8842\n",
            "Epoch 3/10\n",
            "1688/1688 [==============================] - 11s 7ms/step - loss: 0.3226 - accuracy: 0.8802 - val_loss: 0.2700 - val_accuracy: 0.9008\n",
            "Epoch 4/10\n",
            "1688/1688 [==============================] - 14s 8ms/step - loss: 0.2921 - accuracy: 0.8918 - val_loss: 0.2497 - val_accuracy: 0.9068\n",
            "Epoch 5/10\n",
            "1688/1688 [==============================] - 13s 8ms/step - loss: 0.2787 - accuracy: 0.8975 - val_loss: 0.2593 - val_accuracy: 0.9012\n",
            "Epoch 6/10\n",
            "1688/1688 [==============================] - 12s 7ms/step - loss: 0.2659 - accuracy: 0.9010 - val_loss: 0.2380 - val_accuracy: 0.9107\n",
            "Epoch 7/10\n",
            "1688/1688 [==============================] - 10s 6ms/step - loss: 0.2547 - accuracy: 0.9047 - val_loss: 0.2245 - val_accuracy: 0.9160\n",
            "Epoch 8/10\n",
            "1688/1688 [==============================] - 10s 6ms/step - loss: 0.2503 - accuracy: 0.9068 - val_loss: 0.2262 - val_accuracy: 0.9170\n",
            "Epoch 9/10\n",
            "1688/1688 [==============================] - 10s 6ms/step - loss: 0.2437 - accuracy: 0.9095 - val_loss: 0.2273 - val_accuracy: 0.9173\n",
            "Epoch 10/10\n",
            "1688/1688 [==============================] - 10s 6ms/step - loss: 0.2418 - accuracy: 0.9101 - val_loss: 0.2158 - val_accuracy: 0.9190\n"
          ]
        }
      ]
    },
    {
      "cell_type": "markdown",
      "source": [
        "Now lets take a look at how our model trained."
      ],
      "metadata": {
        "id": "ga5bVXFvJF4f"
      }
    },
    {
      "cell_type": "code",
      "source": [
        "plotAccuracy(history2,True)"
      ],
      "metadata": {
        "colab": {
          "base_uri": "https://localhost:8080/",
          "height": 295
        },
        "id": "xNJtw3JZ8vpc",
        "outputId": "80d8d08b-bbaa-4301-9134-bcfc76ef0d1c"
      },
      "execution_count": 42,
      "outputs": [
        {
          "output_type": "display_data",
          "data": {
            "text/plain": [
              "<Figure size 504x288 with 1 Axes>"
            ],
            "image/png": "[encoded data removed]"
          },
          "metadata": {
            "needs_background": "light"
          }
        }
      ]
    },
    {
      "cell_type": "markdown",
      "source": [
        "### Evaluating our CNN"
      ],
      "metadata": {
        "id": "s82UVkp7JNmU"
      }
    },
    {
      "cell_type": "code",
      "source": [
        "loss_cnn, accuracy_cnn = model2.evaluate(x_test_norm,y_test)"
      ],
      "metadata": {
        "colab": {
          "base_uri": "https://localhost:8080/"
        },
        "id": "3-5e5TEx-Z81",
        "outputId": "498e371d-6946-432f-cc1f-8fc479c0afca"
      },
      "execution_count": 36,
      "outputs": [
        {
          "output_type": "stream",
          "name": "stdout",
          "text": [
            "313/313 [==============================] - 1s 3ms/step - loss: 0.2362 - accuracy: 0.9165\n"
          ]
        }
      ]
    },
    {
      "cell_type": "code",
      "source": [
        "print(f\"The accuracy received on Test data is: {accuracy_cnn*100:.2f}%\")"
      ],
      "metadata": {
        "colab": {
          "base_uri": "https://localhost:8080/"
        },
        "id": "_jw79QwS-i8c",
        "outputId": "7aaae3b7-deb7-497b-8195-8ec52a76d869"
      },
      "execution_count": 37,
      "outputs": [
        {
          "output_type": "stream",
          "name": "stdout",
          "text": [
            "The accuracy received on Test data is: 91.65%\n"
          ]
        }
      ]
    },
    {
      "cell_type": "code",
      "source": [
        "from sklearn.metrics import f1_score, precision_score, recall_score\n",
        "\n",
        "y_pred3 = model2.predict(x_test_norm)\n",
        "y_pred3 = np.argmax(y_pred3, axis=1)\n",
        "CNN_f1_score = f1_score(y_test,y_pred3, average = 'weighted')\n",
        "CNN_precision_score = precision_score(y_test,y_pred3, average = 'weighted')\n",
        "CNN_recall_score = f1_score(y_test,y_pred3, average = 'weighted')\n",
        "\n",
        "print(f'F1 score = {CNN_f1_score*100:.02f} \\nPrecision = {CNN_precision_score*100:.02f} \\nRecall = {CNN_recall_score*100:.02f}')"
      ],
      "metadata": {
        "colab": {
          "base_uri": "https://localhost:8080/"
        },
        "id": "YVPIQZAA-xrA",
        "outputId": "5ba63d48-51b1-448c-b622-ff0e5babf158"
      },
      "execution_count": 38,
      "outputs": [
        {
          "output_type": "stream",
          "name": "stdout",
          "text": [
            "F1 score = 91.62 \n",
            "Precision = 91.61 \n",
            "Recall = 91.62\n"
          ]
        }
      ]
    },
    {
      "cell_type": "markdown",
      "source": [
        "Plotting a Confusion Matrix"
      ],
      "metadata": {
        "id": "qLFImyicJQoE"
      }
    },
    {
      "cell_type": "code",
      "source": [
        "from sklearn.metrics import confusion_matrix\n",
        "cm3 = confusion_matrix(y_test,y_pred3, normalize='true')"
      ],
      "metadata": {
        "id": "PoTyKT3tJW6Q"
      },
      "execution_count": 39,
      "outputs": []
    },
    {
      "cell_type": "code",
      "source": [
        "from sklearn.metrics import ConfusionMatrixDisplay\n",
        "disp = ConfusionMatrixDisplay(cm3*100)\n",
        "disp.plot()"
      ],
      "metadata": {
        "colab": {
          "base_uri": "https://localhost:8080/",
          "height": 459
        },
        "id": "sOuKOmXrJcPl",
        "outputId": "98945912-eed1-46bc-f992-d0075cb9116e"
      },
      "execution_count": 40,
      "outputs": [
        {
          "output_type": "execute_result",
          "data": {
            "text/plain": [
              "<sklearn.metrics._plot.confusion_matrix.ConfusionMatrixDisplay at 0x7f1c8e4090d0>"
            ]
          },
          "metadata": {},
          "execution_count": 40
        },
        {
          "output_type": "display_data",
          "data": {
            "text/plain": [
              "<Figure size 720x504 with 2 Axes>"
            ],
            "image/png": "[encoded data removed]"
          },
          "metadata": {
            "needs_background": "light"
          }
        }
      ]
    },
    {
      "cell_type": "code",
      "source": [
        "accuracy = [KNN_accuracy,accuracy_nn,accuracy_cnn]\n",
        "precision = [KNN_precision_score,NN_precision_score,CNN_precision_score]\n",
        "recall = [KNN_recall_score,NN_recall_score,CNN_recall_score]\n",
        "f1_score = [KNN_f1_score,NN_f1_score,CNN_f1_score]\n",
        "x = ['K Nearest Neighbors',\"Single layer NN\", \"CNN\"]\n",
        "from pylab import rcParams\n",
        "rcParams['figure.figsize'] = 9, 6\n",
        "fig, ax = plt.subplots()\n",
        "ax.plot(x,accuracy)\n",
        "ax.plot(x,precision)\n",
        "ax.plot(x,recall)\n",
        "ax.plot(x,f1_score)\n",
        "ax.set_xticks(x)\n",
        "plt.xlabel(\"Type of model used\")\n",
        "plt.ylabel(\"Accuracy of model\")\n",
        "plt.legend(['Accuracy', 'Precision', 'Recall', 'F1_score'], loc='upper left')\n",
        "plt.title(\"Accuracy of model wrt Samples per class\")\n",
        "plt.show()"
      ],
      "metadata": {
        "colab": {
          "base_uri": "https://localhost:8080/",
          "height": 404
        },
        "id": "N-5BKAxFCBxU",
        "outputId": "87af1c9d-f5d1-4208-d9ad-f33447b9f823"
      },
      "execution_count": 41,
      "outputs": [
        {
          "output_type": "display_data",
          "data": {
            "text/plain": [
              "<Figure size 648x432 with 1 Axes>"
            ],
            "image/png": "[encoded data removed]"
          },
          "metadata": {
            "needs_background": "light"
          }
        }
      ]
    }
  ]
}